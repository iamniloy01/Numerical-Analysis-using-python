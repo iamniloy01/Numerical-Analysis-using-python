{
 "cells": [
  {
   "metadata": {},
   "cell_type": "markdown",
   "source": "# **Algorithm**",
   "id": "3e4fc8c52974bd02"
  },
  {
   "metadata": {},
   "cell_type": "markdown",
   "source": [
    "For continuous equation of one variable f(x)=0\n",
    "Step 1: Choose the lower guess, xl and upper guess xu that bracket the    root such that the function has opposite sign over the interval,xl ≤ x ≤ xu\n",
    "\n",
    "Step 2: The estimation root, xr is computed by using\n",
    "xr = xu - {f(xu)(xl − xu) / f(xl) − f(xu)}\n",
    "\n",
    "Step 3: Use the following evaluations to identify the subinterval that the root lies\n",
    "\n",
    "• If  f(xl)f(xr)<0, then the root lies between xl and xr(in the lower subinterval); xl=xl, xu=xr and repeat Step 2\n",
    "\n",
    "• If  f(xl)f(xr)>0, then the root lies between xr and xu (in the upper subinterval);xl=xr,xu=xu and repeat Step 2\n",
    "\n",
    "• If  f(xl)f(xr)=0, then the root is equal to xr. Terminate the computation\n",
    "\n",
    "\n",
    "Step 4: Calculate the approximate % relative error\n",
    "        εa =|{xr(present)−xr(previous)} /xr(present)| × 100%\n",
    "\n",
    "\n",
    "Step 5: Compare with εs. If ,εa ≤ εs then stop the computation. Otherwise go to step 2 and repeat the process by using new interval"
   ],
   "id": "984ac82d3b212725"
  },
  {
   "metadata": {},
   "cell_type": "markdown",
   "source": "**Problem Statement:Use false position method to locate the root of f(x)=x^10 -1 between x=0 and 1.3, error tolerance 0.3%**",
   "id": "ee6eb0b2f93784c5"
  },
  {
   "metadata": {
    "ExecuteTime": {
     "end_time": "2025-09-28T11:53:19.129917Z",
     "start_time": "2025-09-28T11:53:19.127578Z"
    }
   },
   "cell_type": "code",
   "source": "import numpy as np",
   "id": "1448457d6c0939d2",
   "outputs": [],
   "execution_count": 59
  },
  {
   "metadata": {
    "ExecuteTime": {
     "end_time": "2025-09-28T11:53:19.145537Z",
     "start_time": "2025-09-28T11:53:19.143487Z"
    }
   },
   "cell_type": "code",
   "source": [
    "def f(x):\n",
    "    return x**(10) - 1"
   ],
   "id": "262aa075931f7049",
   "outputs": [],
   "execution_count": 60
  },
  {
   "metadata": {
    "ExecuteTime": {
     "end_time": "2025-09-28T11:53:19.153776Z",
     "start_time": "2025-09-28T11:53:19.150940Z"
    }
   },
   "cell_type": "code",
   "source": [
    "import pandas as pd\n",
    "df=pd.DataFrame(columns=[\"Xl\",\"Xu\",\"Xr\",\"f(xl)\",\"f(xu)\",\"f(xr)\",\"Ea(%)\"])"
   ],
   "id": "8574a328a83d44ea",
   "outputs": [],
   "execution_count": 61
  },
  {
   "metadata": {
    "ExecuteTime": {
     "end_time": "2025-09-28T11:53:19.162429Z",
     "start_time": "2025-09-28T11:53:19.159173Z"
    }
   },
   "cell_type": "code",
   "source": [
    "def regula_falsi(xl,xu,es):\n",
    "    if f(xl)*f(xu)>0:\n",
    "        print(\"No root exists between Xl and Xu\")\n",
    "    while True:\n",
    "        xr=xu-((f(xu)*(xl-xu))/(f(xl)-f(xu)))\n",
    "        if len(df)==0:\n",
    "            ea=None\n",
    "        else:\n",
    "            prev_xr=df.iloc[-1][\"Xr\"]  # previous xr\n",
    "            ea=abs((xr-prev_xr)/xr)*100\n",
    "        df.loc[len(df)]=[xl,xu,xr,f(xl),f(xu),f(xr),ea]\n",
    "        if f(xl)*f(xr)<0:\n",
    "            xu=xr\n",
    "        elif f(xl)*f(xr)>0:\n",
    "            xl=xr\n",
    "        elif f(xl)*f(xr)==0:\n",
    "            print(f\"Root :{xr}\")\n",
    "            break\n",
    "        if ea is not None and  ea<=es:\n",
    "            print(f\"Root :{xr}\")\n",
    "            break"
   ],
   "id": "d35711ff2b85d656",
   "outputs": [],
   "execution_count": 62
  },
  {
   "metadata": {
    "ExecuteTime": {
     "end_time": "2025-09-28T11:53:19.179314Z",
     "start_time": "2025-09-28T11:53:19.168794Z"
    }
   },
   "cell_type": "code",
   "source": [
    "es= .3 #error tolerance\n",
    "#Initial guesses\n",
    "xl=0\n",
    "xu=1.3\n",
    "regula_falsi(xl,xu,es)"
   ],
   "id": "198535ec89a26924",
   "outputs": [
    {
     "name": "stdout",
     "output_type": "stream",
     "text": [
      "Root :0.9901736307394302\n"
     ]
    }
   ],
   "execution_count": 63
  },
  {
   "metadata": {
    "ExecuteTime": {
     "end_time": "2025-09-28T11:53:19.189618Z",
     "start_time": "2025-09-28T11:53:19.184864Z"
    }
   },
   "cell_type": "code",
   "source": "print(df)",
   "id": "f79d73af17f40698",
   "outputs": [
    {
     "name": "stdout",
     "output_type": "stream",
     "text": [
      "          Xl   Xu        Xr     f(xl)      f(xu)     f(xr)      Ea(%)\n",
      "0   0.000000  1.3  0.094300 -1.000000  12.785849 -1.000000        NaN\n",
      "1   0.094300  1.3  0.181759 -1.000000  12.785849 -1.000000  48.118299\n",
      "2   0.181759  1.3  0.262874 -1.000000  12.785849 -0.999998  30.857040\n",
      "3   0.262874  1.3  0.338105 -0.999998  12.785849 -0.999980  22.250800\n",
      "4   0.338105  1.3  0.407878 -0.999980  12.785849 -0.999873  17.106298\n",
      "5   0.407878  1.3  0.472583 -0.999873  12.785849 -0.999444  13.691820\n",
      "6   0.472583  1.3  0.532572 -0.999444  12.785849 -0.998164  11.263907\n",
      "7   0.532572  1.3  0.588145 -0.998164  12.785849 -0.995047   9.448877\n",
      "8   0.588145  1.3  0.639544 -0.995047  12.785849 -0.988553   8.036883\n",
      "9   0.639544  1.3  0.686943 -0.988553  12.785849 -0.976600   6.900017\n",
      "10  0.686943  1.3  0.730446 -0.976600  12.785849 -0.956760   5.955710\n",
      "11  0.730446  1.3  0.770099 -0.956760  12.785849 -0.926639   5.148990\n",
      "12  0.770099  1.3  0.805908 -0.926639  12.785849 -0.884428   4.443285\n",
      "13  0.805908  1.3  0.837874 -0.884428  12.785849 -0.829476   3.815178\n",
      "14  0.837874  1.3  0.866028 -0.829476  12.785849 -0.762689   3.250906\n",
      "15  0.866028  1.3  0.890457 -0.762689  12.785849 -0.686577   2.743495\n",
      "16  0.890457  1.3  0.911328 -0.686577  12.785849 -0.604862   2.290170\n",
      "17  0.911328  1.3  0.928885 -0.604862  12.785849 -0.521791   1.890054\n",
      "18  0.928885  1.3  0.943436 -0.521791  12.785849 -0.441369   1.542381\n",
      "19  0.943436  1.3  0.955334 -0.441369  12.785849 -0.366783   1.245420\n",
      "20  0.955334  1.3  0.964946 -0.366783  12.785849 -0.300113   0.996077\n",
      "21  0.964946  1.3  0.972630 -0.300113  12.785849 -0.242338   0.790035\n",
      "22  0.972630  1.3  0.978719 -0.242338  12.785849 -0.193544   0.622185\n",
      "23  0.978719  1.3  0.983510 -0.193544  12.785849 -0.153187   0.487114\n",
      "24  0.983510  1.3  0.987257 -0.153187  12.785849 -0.120366   0.379533\n",
      "25  0.987257  1.3  0.990174 -0.120366  12.785849 -0.094031   0.294566\n"
     ]
    }
   ],
   "execution_count": 64
  }
 ],
 "metadata": {
  "kernelspec": {
   "display_name": "Python 3",
   "language": "python",
   "name": "python3"
  },
  "language_info": {
   "codemirror_mode": {
    "name": "ipython",
    "version": 2
   },
   "file_extension": ".py",
   "mimetype": "text/x-python",
   "name": "python",
   "nbconvert_exporter": "python",
   "pygments_lexer": "ipython2",
   "version": "2.7.6"
  }
 },
 "nbformat": 4,
 "nbformat_minor": 5
}
