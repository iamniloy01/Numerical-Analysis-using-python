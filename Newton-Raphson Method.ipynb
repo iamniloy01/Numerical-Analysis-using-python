{
 "cells": [
  {
   "metadata": {},
   "cell_type": "markdown",
   "source": "**Problem Statement: Determine the first root f(x) = 2x^(3)− 11.7 x^(2) + 17.7 x − 5 by using Newton Raphson method. Use the initial guesses of x0=3 and error tolerance 1%**",
   "id": "f56c159ca0d0b40"
  },
  {
   "cell_type": "code",
   "id": "initial_id",
   "metadata": {
    "collapsed": true,
    "ExecuteTime": {
     "end_time": "2025-09-28T13:40:48.134749Z",
     "start_time": "2025-09-28T13:40:48.130519Z"
    }
   },
   "source": "import numpy as np",
   "outputs": [],
   "execution_count": 31
  },
  {
   "metadata": {
    "ExecuteTime": {
     "end_time": "2025-09-28T13:40:48.170587Z",
     "start_time": "2025-09-28T13:40:48.158453Z"
    }
   },
   "cell_type": "code",
   "source": [
    "def f(x):\n",
    "    return 2*(x**3)-11.7*(x**2)+17.7*x-5"
   ],
   "id": "2f02b060ad57496",
   "outputs": [],
   "execution_count": 32
  },
  {
   "metadata": {
    "ExecuteTime": {
     "end_time": "2025-09-28T13:40:48.182738Z",
     "start_time": "2025-09-28T13:40:48.179343Z"
    }
   },
   "cell_type": "code",
   "source": [
    "def diff_f(x):\n",
    "    return 6*(x**2)-23.4*x+17.7"
   ],
   "id": "36f0646307e8be2f",
   "outputs": [],
   "execution_count": 33
  },
  {
   "metadata": {
    "ExecuteTime": {
     "end_time": "2025-09-28T13:40:48.195087Z",
     "start_time": "2025-09-28T13:40:48.190428Z"
    }
   },
   "cell_type": "code",
   "source": [
    "import pandas as pd\n",
    "df=pd.DataFrame(columns=[\"Xi\",\"f(Xi)\",\"f'(Xi)\",\"Xi+1\",\"Error (%)\"])"
   ],
   "id": "f892a4edd5947814",
   "outputs": [],
   "execution_count": 34
  },
  {
   "metadata": {
    "ExecuteTime": {
     "end_time": "2025-09-28T13:40:48.207390Z",
     "start_time": "2025-09-28T13:40:48.202799Z"
    }
   },
   "cell_type": "code",
   "source": [
    "def Newton_Raphson(x1,es):\n",
    "    while True:\n",
    "        x2=x1-(f(x1)/diff_f(x1))   # Xi= x1 , Xi+1 = x2\n",
    "        if len(df)==0:\n",
    "            ea=None\n",
    "        else:\n",
    "            ea=abs((x2-x1)/x2)*100  #   Xi= x1 , Xi+1 = x2\n",
    "        df.loc[len(df.index)] = [x1,f(x1),diff_f(x1),x2,ea]\n",
    "        x1=x2\n",
    "        if ea is not None and ea<=es:\n",
    "            print(f\"Root:{x2}\")\n",
    "            break"
   ],
   "id": "a5c5895df05e3ae0",
   "outputs": [],
   "execution_count": 35
  },
  {
   "metadata": {
    "ExecuteTime": {
     "end_time": "2025-09-28T13:40:48.229355Z",
     "start_time": "2025-09-28T13:40:48.219293Z"
    }
   },
   "cell_type": "code",
   "source": [
    "es=1 # error tolerance\n",
    "# initial guess\n",
    "x1=3\n",
    "Newton_Raphson(x1,es)"
   ],
   "id": "192c383cd8c01246",
   "outputs": [
    {
     "name": "stdout",
     "output_type": "stream",
     "text": [
      "Root:3.56433803284734\n"
     ]
    }
   ],
   "execution_count": 36
  },
  {
   "metadata": {
    "ExecuteTime": {
     "end_time": "2025-09-28T13:41:09.912931Z",
     "start_time": "2025-09-28T13:41:09.899651Z"
    }
   },
   "cell_type": "code",
   "source": "print(df)",
   "id": "d961a861bb6f27e",
   "outputs": [
    {
     "name": "stdout",
     "output_type": "stream",
     "text": [
      "         Xi      f(Xi)     f'(Xi)      Xi+1  Error (%)\n",
      "0  3.000000  -3.200000   1.500000  5.133333        NaN\n",
      "1  5.133333  48.090074  55.686667  4.269750  20.225617\n",
      "2  4.269750  12.956244  27.172442  3.792934  12.571152\n",
      "3  3.792934   2.947603  15.263445  3.599819   5.364580\n",
      "4  3.599819   0.397973  11.216422  3.564338   0.995451\n"
     ]
    }
   ],
   "execution_count": 37
  }
 ],
 "metadata": {
  "kernelspec": {
   "display_name": "Python 3",
   "language": "python",
   "name": "python3"
  },
  "language_info": {
   "codemirror_mode": {
    "name": "ipython",
    "version": 2
   },
   "file_extension": ".py",
   "mimetype": "text/x-python",
   "name": "python",
   "nbconvert_exporter": "python",
   "pygments_lexer": "ipython2",
   "version": "2.7.6"
  }
 },
 "nbformat": 4,
 "nbformat_minor": 5
}
