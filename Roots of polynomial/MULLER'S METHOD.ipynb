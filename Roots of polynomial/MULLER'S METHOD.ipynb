{
 "cells": [
  {
   "metadata": {},
   "cell_type": "markdown",
   "source": "## Problem Statement: Use Müller’s method with guesses of 𝑥0, 𝑥1, and 𝑥2 4.5, 5.5,and 5, respectively, to determine a root of the equation f(𝑥)= 𝑥^3− 13𝑥 − 12",
   "id": "419d18b52cb1a0e8"
  },
  {
   "cell_type": "code",
   "id": "initial_id",
   "metadata": {
    "collapsed": true,
    "ExecuteTime": {
     "end_time": "2025-09-28T22:04:14.773190Z",
     "start_time": "2025-09-28T22:04:14.769742Z"
    }
   },
   "source": "import numpy as np",
   "outputs": [],
   "execution_count": 14
  },
  {
   "metadata": {
    "ExecuteTime": {
     "end_time": "2025-09-28T22:04:14.810815Z",
     "start_time": "2025-09-28T22:04:14.801029Z"
    }
   },
   "cell_type": "code",
   "source": [
    "def f(x):\n",
    "    return x**3-13*x-12"
   ],
   "id": "f2eeb07d2fc250b0",
   "outputs": [],
   "execution_count": 15
  },
  {
   "metadata": {
    "ExecuteTime": {
     "end_time": "2025-09-28T22:04:14.833005Z",
     "start_time": "2025-09-28T22:04:14.826404Z"
    }
   },
   "cell_type": "code",
   "source": [
    "import pandas as pd\n",
    "df=pd.DataFrame(columns=[\"X2\",\"X1\",\"X0\",\"f(X2)\",\"f(X1)\",\"f(X0)\",\"h1\",\"Del1\",\"h0\",\"Del0\",\"a\",\"b\",\"c\",\"Det\",\"X3\",\"f(X3)\",\"Error (%)\"])"
   ],
   "id": "104cee9f4c90e642",
   "outputs": [],
   "execution_count": 16
  },
  {
   "metadata": {
    "ExecuteTime": {
     "end_time": "2025-09-28T22:04:14.857457Z",
     "start_time": "2025-09-28T22:04:14.850031Z"
    }
   },
   "cell_type": "code",
   "source": [
    "def muller(x0,x1,x2,es):\n",
    "    while True:\n",
    "        h1=x2-x1\n",
    "        h0=x1-x0\n",
    "        del1=(f(x2)-f(x1))/(x2-x1)\n",
    "        del0=(f(x1)-f(x0))/(x1-x0)\n",
    "        a=(del1-del0)/(h1+h0)\n",
    "        b=(a*h1)+del1\n",
    "        c=f(x2)\n",
    "        det=np.sqrt((b**2)-(4*a*c))\n",
    "        if b>=0:\n",
    "            x3=x2+((-2*c)/(b+det))\n",
    "        elif b<0:\n",
    "            x3=x2+((-2*c)/(b-det))\n",
    "        if f(x3)==0:\n",
    "            print(f\"Root:{x3}\")\n",
    "            break\n",
    "        ea=(abs((x3-x2)/x3))*100\n",
    "        df.loc[len(df)]=[x2,x1,x0,f(x2),f(x1),f(x0),h1,del1,h0,del0,a,b,c,det,x3,f(x3),ea]\n",
    "        x0=x1\n",
    "        x1=x2\n",
    "        x2=x3\n",
    "        if ea<=es:\n",
    "            print(f\"Root:{x3}\")\n",
    "            break"
   ],
   "id": "4709d6f05732e5f9",
   "outputs": [],
   "execution_count": 17
  },
  {
   "metadata": {
    "ExecuteTime": {
     "end_time": "2025-09-28T22:04:14.878161Z",
     "start_time": "2025-09-28T22:04:14.869287Z"
    }
   },
   "cell_type": "code",
   "source": [
    "es=.02 #error tolerance 0.02%\n",
    "#initial guesses\n",
    "x0=4.5\n",
    "x1=5.5\n",
    "x2=5\n",
    "muller(x0,x1,x2,es)"
   ],
   "id": "11cb3988877e94b4",
   "outputs": [
    {
     "name": "stdout",
     "output_type": "stream",
     "text": [
      "Root:4.000000000000497\n"
     ]
    }
   ],
   "execution_count": 18
  },
  {
   "metadata": {
    "ExecuteTime": {
     "end_time": "2025-09-28T22:04:19.549177Z",
     "start_time": "2025-09-28T22:04:19.529753Z"
    }
   },
   "cell_type": "code",
   "source": "df",
   "id": "5d99ec9a2c8483bb",
   "outputs": [
    {
     "data": {
      "text/plain": [
       "         X2        X1        X0      f(X2)      f(X1)      f(X0)        h1  \\\n",
       "0  5.000000  5.500000  4.500000  48.000000  82.875000  20.625000 -0.500000   \n",
       "1  3.976487  5.000000  5.500000  -0.816332  48.000000  82.875000 -1.023513   \n",
       "2  4.001050  3.976487  5.000000   0.036781  -0.816332  48.000000  0.024563   \n",
       "3  4.000001  4.001050  3.976487   0.000025   0.036781  -0.816332 -0.001050   \n",
       "\n",
       "        Del1        h0       Del0          a          b          c        Det  \\\n",
       "0  69.750000  1.000000  62.250000  15.000000  62.250000  48.000000  31.544611   \n",
       "1  47.694884 -0.500000  69.750000  14.476487  32.878012  -0.816332  33.589197   \n",
       "2  34.730980 -1.023513  47.694884  12.977538  35.049753   0.036781  35.022505   \n",
       "3  35.012616  0.024563  34.730980  11.977538  35.000042   0.000025  35.000025   \n",
       "\n",
       "         X3         f(X3)  Error (%)  \n",
       "0  3.976487 -8.163322e-01  25.739125  \n",
       "1  4.001050  3.678070e-02   0.613925  \n",
       "2  4.000001  2.468447e-05   0.026245  \n",
       "3  4.000000  1.740830e-11   0.000018  "
      ],
      "text/html": [
       "<div>\n",
       "<style scoped>\n",
       "    .dataframe tbody tr th:only-of-type {\n",
       "        vertical-align: middle;\n",
       "    }\n",
       "\n",
       "    .dataframe tbody tr th {\n",
       "        vertical-align: top;\n",
       "    }\n",
       "\n",
       "    .dataframe thead th {\n",
       "        text-align: right;\n",
       "    }\n",
       "</style>\n",
       "<table border=\"1\" class=\"dataframe\">\n",
       "  <thead>\n",
       "    <tr style=\"text-align: right;\">\n",
       "      <th></th>\n",
       "      <th>X2</th>\n",
       "      <th>X1</th>\n",
       "      <th>X0</th>\n",
       "      <th>f(X2)</th>\n",
       "      <th>f(X1)</th>\n",
       "      <th>f(X0)</th>\n",
       "      <th>h1</th>\n",
       "      <th>Del1</th>\n",
       "      <th>h0</th>\n",
       "      <th>Del0</th>\n",
       "      <th>a</th>\n",
       "      <th>b</th>\n",
       "      <th>c</th>\n",
       "      <th>Det</th>\n",
       "      <th>X3</th>\n",
       "      <th>f(X3)</th>\n",
       "      <th>Error (%)</th>\n",
       "    </tr>\n",
       "  </thead>\n",
       "  <tbody>\n",
       "    <tr>\n",
       "      <th>0</th>\n",
       "      <td>5.000000</td>\n",
       "      <td>5.500000</td>\n",
       "      <td>4.500000</td>\n",
       "      <td>48.000000</td>\n",
       "      <td>82.875000</td>\n",
       "      <td>20.625000</td>\n",
       "      <td>-0.500000</td>\n",
       "      <td>69.750000</td>\n",
       "      <td>1.000000</td>\n",
       "      <td>62.250000</td>\n",
       "      <td>15.000000</td>\n",
       "      <td>62.250000</td>\n",
       "      <td>48.000000</td>\n",
       "      <td>31.544611</td>\n",
       "      <td>3.976487</td>\n",
       "      <td>-8.163322e-01</td>\n",
       "      <td>25.739125</td>\n",
       "    </tr>\n",
       "    <tr>\n",
       "      <th>1</th>\n",
       "      <td>3.976487</td>\n",
       "      <td>5.000000</td>\n",
       "      <td>5.500000</td>\n",
       "      <td>-0.816332</td>\n",
       "      <td>48.000000</td>\n",
       "      <td>82.875000</td>\n",
       "      <td>-1.023513</td>\n",
       "      <td>47.694884</td>\n",
       "      <td>-0.500000</td>\n",
       "      <td>69.750000</td>\n",
       "      <td>14.476487</td>\n",
       "      <td>32.878012</td>\n",
       "      <td>-0.816332</td>\n",
       "      <td>33.589197</td>\n",
       "      <td>4.001050</td>\n",
       "      <td>3.678070e-02</td>\n",
       "      <td>0.613925</td>\n",
       "    </tr>\n",
       "    <tr>\n",
       "      <th>2</th>\n",
       "      <td>4.001050</td>\n",
       "      <td>3.976487</td>\n",
       "      <td>5.000000</td>\n",
       "      <td>0.036781</td>\n",
       "      <td>-0.816332</td>\n",
       "      <td>48.000000</td>\n",
       "      <td>0.024563</td>\n",
       "      <td>34.730980</td>\n",
       "      <td>-1.023513</td>\n",
       "      <td>47.694884</td>\n",
       "      <td>12.977538</td>\n",
       "      <td>35.049753</td>\n",
       "      <td>0.036781</td>\n",
       "      <td>35.022505</td>\n",
       "      <td>4.000001</td>\n",
       "      <td>2.468447e-05</td>\n",
       "      <td>0.026245</td>\n",
       "    </tr>\n",
       "    <tr>\n",
       "      <th>3</th>\n",
       "      <td>4.000001</td>\n",
       "      <td>4.001050</td>\n",
       "      <td>3.976487</td>\n",
       "      <td>0.000025</td>\n",
       "      <td>0.036781</td>\n",
       "      <td>-0.816332</td>\n",
       "      <td>-0.001050</td>\n",
       "      <td>35.012616</td>\n",
       "      <td>0.024563</td>\n",
       "      <td>34.730980</td>\n",
       "      <td>11.977538</td>\n",
       "      <td>35.000042</td>\n",
       "      <td>0.000025</td>\n",
       "      <td>35.000025</td>\n",
       "      <td>4.000000</td>\n",
       "      <td>1.740830e-11</td>\n",
       "      <td>0.000018</td>\n",
       "    </tr>\n",
       "  </tbody>\n",
       "</table>\n",
       "</div>"
      ]
     },
     "execution_count": 20,
     "metadata": {},
     "output_type": "execute_result"
    }
   ],
   "execution_count": 20
  }
 ],
 "metadata": {
  "kernelspec": {
   "display_name": "Python 3",
   "language": "python",
   "name": "python3"
  },
  "language_info": {
   "codemirror_mode": {
    "name": "ipython",
    "version": 2
   },
   "file_extension": ".py",
   "mimetype": "text/x-python",
   "name": "python",
   "nbconvert_exporter": "python",
   "pygments_lexer": "ipython2",
   "version": "2.7.6"
  }
 },
 "nbformat": 4,
 "nbformat_minor": 5
}
