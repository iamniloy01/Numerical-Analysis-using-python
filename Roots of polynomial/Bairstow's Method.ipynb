{
 "cells": [
  {
   "metadata": {},
   "cell_type": "markdown",
   "source": "# Problem Statement: Employ Bairstow's method to determine the roots of the polynomial f(x)=x^5 -3.5x^4 +2.75x^3 +2.125x^2 -3.875x +1.25  ,  initial guesses r=s=-1 and es=1% (error tolerance)",
   "id": "1d6d41025f5c0ff5"
  },
  {
   "metadata": {
    "ExecuteTime": {
     "end_time": "2025-09-29T12:08:44.789949Z",
     "start_time": "2025-09-29T12:08:44.786628Z"
    }
   },
   "cell_type": "code",
   "source": [
    "import numpy as np\n",
    "from sympy import symbols,Poly\n",
    "from sympy import symbols,degree\n",
    "from sympy import sqrt\n",
    "x=symbols(\"x\")"
   ],
   "id": "6baa417854c7ca45",
   "outputs": [],
   "execution_count": 5
  },
  {
   "metadata": {
    "ExecuteTime": {
     "end_time": "2025-09-29T12:08:44.827321Z",
     "start_time": "2025-09-29T12:08:44.803374Z"
    }
   },
   "cell_type": "code",
   "source": "func=x**5-3.5*(x**4)+2.75*(x**3)+2.125*(x**2)-3.875*x+1.25",
   "id": "7655e9dbe4e06b86",
   "outputs": [],
   "execution_count": 6
  },
  {
   "metadata": {
    "ExecuteTime": {
     "end_time": "2025-09-29T12:08:44.842738Z",
     "start_time": "2025-09-29T12:08:44.835702Z"
    }
   },
   "cell_type": "code",
   "source": [
    "def bairstow(r,s,es):\n",
    "    while True:\n",
    "        deg=degree(func,x)\n",
    "        p=Poly(func,x)\n",
    "        co_eff=p.all_coeffs()\n",
    "        a=co_eff[::-1]\n",
    "        b=[]\n",
    "        c=[]\n",
    "        for i in range(deg,-1,-1):\n",
    "            if i==deg:\n",
    "                b.append(a[-1])\n",
    "            elif i==(deg-1):\n",
    "                cal=a[-2]+(r*a[-1])\n",
    "                b.append(cal)\n",
    "            else:\n",
    "                cal=a[i]+(r*b[-1])+(s*b[-2])\n",
    "                b.append(cal)\n",
    "        rev_b=b[::-1]\n",
    "        for j in range(deg,0,-1):\n",
    "            if j==deg:\n",
    "                c.append(rev_b[-1])\n",
    "            elif j==(deg-1):\n",
    "                cal1=rev_b[-2]+(r*rev_b[-1])\n",
    "                c.append(cal1)\n",
    "            else:\n",
    "                cal1=rev_b[j]+(r*c[-1])+(s*c[-2])\n",
    "                c.append(cal1)\n",
    "        from sympy import symbols,Eq,solve\n",
    "        r1,s1=symbols('r1 s1')\n",
    "        eq1=Eq((c[-1]*r1)+(c[-2]*s1),-b[-1])\n",
    "        eq2=Eq((c[-2]*r1)+(c[-3]*s1),-b[-2])\n",
    "        solution=solve((eq1,eq2),(r1,s1))\n",
    "        r2=solution[r1]+r\n",
    "        s2=solution[s1]+s\n",
    "        err=(abs((solution[s1])/s2))*100\n",
    "        r=r2\n",
    "        s=s2\n",
    "        if err<=es:\n",
    "            root1=((r+sqrt(r**2+4*s))/2).evalf()\n",
    "            root2=((r-sqrt(r**2+4*s))/2).evalf()\n",
    "            print(f\"Roots are {root1} and {root2}\")\n",
    "            break"
   ],
   "id": "33dd58ad83e77349",
   "outputs": [],
   "execution_count": 7
  },
  {
   "metadata": {
    "ExecuteTime": {
     "end_time": "2025-09-29T12:08:45.123587Z",
     "start_time": "2025-09-29T12:08:44.855696Z"
    }
   },
   "cell_type": "code",
   "source": [
    "#initial guesses\n",
    "r=-1\n",
    "s=-1\n",
    "es=1 # error tolerance\n",
    "bairstow(r,s,es)"
   ],
   "id": "5a7dccc07fc7b3f6",
   "outputs": [
    {
     "name": "stdout",
     "output_type": "stream",
     "text": [
      "Roots are 0.499999971320072 and -1.00000003658460\n"
     ]
    }
   ],
   "execution_count": 8
  }
 ],
 "metadata": {
  "kernelspec": {
   "display_name": "Python 3",
   "language": "python",
   "name": "python3"
  },
  "language_info": {
   "codemirror_mode": {
    "name": "ipython",
    "version": 2
   },
   "file_extension": ".py",
   "mimetype": "text/x-python",
   "name": "python",
   "nbconvert_exporter": "python",
   "pygments_lexer": "ipython2",
   "version": "2.7.6"
  }
 },
 "nbformat": 4,
 "nbformat_minor": 5
}
