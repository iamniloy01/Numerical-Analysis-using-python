{
 "cells": [
  {
   "metadata": {},
   "cell_type": "markdown",
   "source": [
    "**(Q) solve  :       2x+3y+z+w=15 ,\n",
    "            4x+7y+7z+3w=46 ,\n",
    "            -2x+4y+5z-2w=12 ,\n",
    "            6x+2y+3z+4w=32**"
   ],
   "id": "92e21d8eefb7b056"
  },
  {
   "metadata": {
    "ExecuteTime": {
     "end_time": "2025-10-02T09:33:50.209589Z",
     "start_time": "2025-10-02T09:33:50.206925Z"
    }
   },
   "cell_type": "code",
   "source": "import numpy as np",
   "id": "dcf849222f6ae009",
   "outputs": [],
   "execution_count": 48
  },
  {
   "metadata": {
    "ExecuteTime": {
     "end_time": "2025-10-02T09:33:50.246632Z",
     "start_time": "2025-10-02T09:33:50.221672Z"
    }
   },
   "cell_type": "code",
   "source": [
    "def LU_Doolittle(a,b):\n",
    "    def lu(a,b):\n",
    "        n=a.shape[0]\n",
    "        L=np.eye(n)\n",
    "        U=np.hstack((a,b))\n",
    "        for i in range(n-1):\n",
    "            max_row= np.argmax(abs(U[i:,i]))+i\n",
    "            if max_row !=i:\n",
    "                U[[i,max_row]]=U[[max_row,i]]\n",
    "            for j in range(i+1,n):\n",
    "                m=U[j,i]/U[i,i]\n",
    "                L[j,i]=m\n",
    "                U[j,:]-=(U[i,:])*m\n",
    "        return U,L\n",
    "    def g(a,b):\n",
    "        c=np.hstack((a,b))\n",
    "        n=c.shape[0]\n",
    "        for i in range(n-1):\n",
    "            max_row = np.argmax(abs(c[i:, i])) + i\n",
    "            if max_row != i:\n",
    "                c[[i, max_row]] = c[[max_row, i]]\n",
    "            for j in range(i+1,n):\n",
    "                m=c[j,i]/c[i,i]\n",
    "                c[j,:]-=(c[i,:])*m\n",
    "        X=np.zeros(n)\n",
    "        for k in range(n-1,-1,-1):\n",
    "            const=c[k,n]\n",
    "            for l in range(k+1,n):\n",
    "                const-=c[k,l]*X[l]\n",
    "            X[k]=const/c[k,k]\n",
    "        return X\n",
    "    U,L=lu(a,b)\n",
    "    d=g(L,b)\n",
    "    x=g(U,d.reshape(-1,1))\n",
    "    return x"
   ],
   "id": "445fa230d450d445",
   "outputs": [],
   "execution_count": 49
  },
  {
   "metadata": {
    "ExecuteTime": {
     "end_time": "2025-10-02T09:33:50.257048Z",
     "start_time": "2025-10-02T09:33:50.252972Z"
    }
   },
   "cell_type": "code",
   "source": [
    "a=np.matrix([\n",
    "    [2,3,1,5],\n",
    "    [4,7,7,3],\n",
    "    [-2,4,5,-2],\n",
    "    [6,2,3,4]\n",
    "],dtype=float)\n",
    "b=np.matrix([\n",
    "    [15],\n",
    "    [46],\n",
    "    [12],\n",
    "    [32]\n",
    "],dtype=float)"
   ],
   "id": "d355d2695948c12d",
   "outputs": [],
   "execution_count": 50
  },
  {
   "metadata": {
    "ExecuteTime": {
     "end_time": "2025-10-02T09:33:50.271017Z",
     "start_time": "2025-10-02T09:33:50.265936Z"
    }
   },
   "cell_type": "code",
   "source": "print(\"Solution:\",LU_Doolittle(a,b))",
   "id": "947a26797a3a24a5",
   "outputs": [
    {
     "name": "stdout",
     "output_type": "stream",
     "text": [
      "Solution: [ 4.6  3.9  0.6 -1.3]\n"
     ]
    }
   ],
   "execution_count": 51
  }
 ],
 "metadata": {
  "kernelspec": {
   "display_name": "Python 3",
   "language": "python",
   "name": "python3"
  },
  "language_info": {
   "codemirror_mode": {
    "name": "ipython",
    "version": 2
   },
   "file_extension": ".py",
   "mimetype": "text/x-python",
   "name": "python",
   "nbconvert_exporter": "python",
   "pygments_lexer": "ipython2",
   "version": "2.7.6"
  }
 },
 "nbformat": 4,
 "nbformat_minor": 5
}
