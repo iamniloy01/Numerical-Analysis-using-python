{
 "cells": [
  {
   "metadata": {},
   "cell_type": "markdown",
   "source": [
    "**_Solve the following system of linear equations using Gaussian elimination with partial pivoting and back substitution:\n",
    "                                                    x+y+z+w=10 ,\n",
    "                                                    2x−y+w=7 ,\n",
    "                                                    3x+z=13 ,\n",
    "                                                    x+2y+3z+w=22.\n",
    " Answer: x=2.25 , y=-0.5 , z=6.25 ,w=2)_**"
   ],
   "id": "b3f2e90b99dc93ba"
  },
  {
   "metadata": {
    "ExecuteTime": {
     "end_time": "2025-10-01T10:56:46.159704Z",
     "start_time": "2025-10-01T10:56:46.155047Z"
    }
   },
   "cell_type": "code",
   "source": "import numpy as np",
   "id": "1c7e3f8b0d332a69",
   "outputs": [],
   "execution_count": 73
  },
  {
   "metadata": {
    "ExecuteTime": {
     "end_time": "2025-10-01T10:56:46.196804Z",
     "start_time": "2025-10-01T10:56:46.184379Z"
    }
   },
   "cell_type": "code",
   "source": [
    "a=np.matrix([\n",
    "    [1,1,1,1],\n",
    "    [2,-1,0,1],\n",
    "    [3,0,1,0],\n",
    "    [1,2,3,1]\n",
    "], dtype=float)\n",
    "b=np.matrix([[10],\n",
    "           [7],\n",
    "           [13],\n",
    "           [22]], dtype=float)"
   ],
   "id": "c2d59fd58ac4dc66",
   "outputs": [],
   "execution_count": 74
  },
  {
   "metadata": {
    "ExecuteTime": {
     "end_time": "2025-10-01T10:56:46.212384Z",
     "start_time": "2025-10-01T10:56:46.208069Z"
    }
   },
   "cell_type": "code",
   "source": [
    "def gauss_elimination(a,b):\n",
    "    c=np.hstack((a,b))\n",
    "    n=c.shape[0]\n",
    "    for i in range(n-1):\n",
    "        max_row = np.argmax(abs(c[i:, i])) + i\n",
    "        if max_row != i:\n",
    "            c[[i, max_row]] = c[[max_row, i]]\n",
    "\n",
    "        for j in range(i+1,n):\n",
    "            m=c[j,i]/c[i,i]\n",
    "            c[j,:]-=(c[i,:])*m\n",
    "\n",
    "    X=np.zeros(n)\n",
    "    for k in range(n-1,-1,-1):\n",
    "        const=c[k,n]\n",
    "        for l in range(k+1,n):\n",
    "            const-=c[k,l]*X[l]\n",
    "        X[k]=const/c[k,k]\n",
    "    return X"
   ],
   "id": "b802f77d829d1652",
   "outputs": [],
   "execution_count": 75
  },
  {
   "metadata": {
    "ExecuteTime": {
     "end_time": "2025-10-01T10:56:46.230305Z",
     "start_time": "2025-10-01T10:56:46.225767Z"
    }
   },
   "cell_type": "code",
   "source": [
    "sol=gauss_elimination(a,b)\n",
    "print(\"Solution:\",sol)"
   ],
   "id": "1cbc33546931c2fc",
   "outputs": [
    {
     "name": "stdout",
     "output_type": "stream",
     "text": [
      "Solution: [ 2.25 -0.5   6.25  2.  ]\n"
     ]
    }
   ],
   "execution_count": 76
  }
 ],
 "metadata": {
  "kernelspec": {
   "display_name": "Python 3",
   "language": "python",
   "name": "python3"
  },
  "language_info": {
   "codemirror_mode": {
    "name": "ipython",
    "version": 2
   },
   "file_extension": ".py",
   "mimetype": "text/x-python",
   "name": "python",
   "nbconvert_exporter": "python",
   "pygments_lexer": "ipython2",
   "version": "2.7.6"
  }
 },
 "nbformat": 4,
 "nbformat_minor": 5
}
