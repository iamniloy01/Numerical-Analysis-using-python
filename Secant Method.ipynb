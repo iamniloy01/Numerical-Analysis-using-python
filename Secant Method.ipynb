{
 "cells": [
  {
   "metadata": {},
   "cell_type": "markdown",
   "source": "**Problem Statement: Determine one of the real root(s) f(x)=-12-21x + 18x^2-2.4x^3 by using secant method.Use the initial guesses of X(-1)=1 and X(0)=1.3.Perform the computation until error < 5%**",
   "id": "d5b1234fa0d4cd88"
  },
  {
   "cell_type": "code",
   "id": "initial_id",
   "metadata": {
    "collapsed": true,
    "ExecuteTime": {
     "end_time": "2025-09-28T14:21:46.988782Z",
     "start_time": "2025-09-28T14:21:46.985819Z"
    }
   },
   "source": "import numpy as np",
   "outputs": [],
   "execution_count": 15
  },
  {
   "metadata": {
    "ExecuteTime": {
     "end_time": "2025-09-28T14:21:47.043153Z",
     "start_time": "2025-09-28T14:21:47.038519Z"
    }
   },
   "cell_type": "code",
   "source": [
    "def f(x):\n",
    "    return -12-21*x+18*(x**2)-2.4*(x**3)"
   ],
   "id": "e1b26b7241b5aa45",
   "outputs": [],
   "execution_count": 16
  },
  {
   "metadata": {
    "ExecuteTime": {
     "end_time": "2025-09-28T14:21:47.060629Z",
     "start_time": "2025-09-28T14:21:47.055539Z"
    }
   },
   "cell_type": "code",
   "source": [
    "import pandas as pd\n",
    "df=pd.DataFrame(columns=[\"X(i-1)\",\"Xi\",\"f(X(i-1))\",\"f(Xi)\",\"X(i+1)\",\"Error (%)\"])"
   ],
   "id": "822638874138ac99",
   "outputs": [],
   "execution_count": 17
  },
  {
   "metadata": {
    "ExecuteTime": {
     "end_time": "2025-09-28T14:21:47.074806Z",
     "start_time": "2025-09-28T14:21:47.069859Z"
    }
   },
   "cell_type": "code",
   "source": [
    "def secant(x1,x2,es):\n",
    "    while True:\n",
    "        x3=x2-(f(x2)*(x2-x1))/(f(x2)-f(x1))\n",
    "        if len(df)==0:\n",
    "            ea=None\n",
    "        else:\n",
    "            ea=abs((x3-x2)/x3)*100\n",
    "        df.loc[len(df)]=[x1,x2,f(x1),f(x2),x3,ea]\n",
    "        x1=x2\n",
    "        x2=x3\n",
    "        if ea is not None and ea<=es:\n",
    "            print(f\"Root:{x3}\")\n",
    "            break"
   ],
   "id": "f77e5106a61806b6",
   "outputs": [],
   "execution_count": 18
  },
  {
   "metadata": {
    "ExecuteTime": {
     "end_time": "2025-09-28T14:21:47.093340Z",
     "start_time": "2025-09-28T14:21:47.085603Z"
    }
   },
   "cell_type": "code",
   "source": [
    "es=5 #error tolerance\n",
    "#initial guesses\n",
    "x1=1\n",
    "x2=1.3\n",
    "secant(x1,x2,es)"
   ],
   "id": "56174b9a53efa90d",
   "outputs": [
    {
     "name": "stdout",
     "output_type": "stream",
     "text": [
      "Root:2.049999393210276\n"
     ]
    }
   ],
   "execution_count": 19
  },
  {
   "metadata": {
    "ExecuteTime": {
     "end_time": "2025-09-28T14:21:47.147390Z",
     "start_time": "2025-09-28T14:21:47.135057Z"
    }
   },
   "cell_type": "code",
   "source": "print(df)",
   "id": "e0311fd4a59e46ce",
   "outputs": [
    {
     "name": "stdout",
     "output_type": "stream",
     "text": [
      "     X(i-1)        Xi  f(X(i-1))      f(Xi)    X(i+1)  Error (%)\n",
      "0  1.000000  1.300000 -17.400000 -14.152800  2.607539        NaN\n",
      "1  1.300000  2.607539 -14.152800  13.077947  1.979575  31.722151\n",
      "2  2.607539  1.979575  13.077947  -1.651912  2.049999   3.435336\n"
     ]
    }
   ],
   "execution_count": 20
  }
 ],
 "metadata": {
  "kernelspec": {
   "display_name": "Python 3",
   "language": "python",
   "name": "python3"
  },
  "language_info": {
   "codemirror_mode": {
    "name": "ipython",
    "version": 2
   },
   "file_extension": ".py",
   "mimetype": "text/x-python",
   "name": "python",
   "nbconvert_exporter": "python",
   "pygments_lexer": "ipython2",
   "version": "2.7.6"
  }
 },
 "nbformat": 4,
 "nbformat_minor": 5
}
