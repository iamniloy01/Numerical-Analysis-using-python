{
 "cells": [
  {
   "metadata": {},
   "cell_type": "markdown",
   "source": "# **Algorithm**",
   "id": "e55a6b0c066194f0"
  },
  {
   "metadata": {},
   "cell_type": "markdown",
   "source": [
    "Step 1: Choose xl and xu as two guesses for the root such that f(xl)*f(xu)<0, or in other word, f(x) changes sign between xl and xu.\n",
    "\n",
    "Step 2: Estimate the root , xr of the equation f(x) =0 as the mid point between xl and xu as xr=(xu+xl)/2\n",
    "\n",
    "Step3 : Now check the following:\n",
    "    a) If f(xl)*f(xr)<0 , then the root lies between xl and xr (in the lower subinterval); xl=xl, xu=xr and repeat step 2\n",
    "    b) If f(xl)*f(xr)>0, then the root lies between xr and xu (in the upper subinterval); xl=xr, xu=xu and repeat step 2\n",
    "    c)If f(xl)*f(xr)=0, then the root is equal to xr.Terminate the computation\n",
    "\n",
    "Step 4: Calculate the approximate % relative error\n",
    "           Ea=abs((xr(present)-xr(previous))/xr(present))*100\n",
    "\n",
    "Step 5: Compare with Es <= Es(tolerance limit) then stop the computation.Otherwise go to step 2 and repeat the process by using new interval"
   ],
   "id": "859de5d75c0ac95"
  },
  {
   "metadata": {},
   "cell_type": "markdown",
   "source": "### Example: Find the root for the following function in [0,1] using Bisection method.  f(x)=3x+sine(x)-exp(x)=0. The result should be correct within 5% tolerance.",
   "id": "b93c699e991f934b"
  },
  {
   "cell_type": "code",
   "id": "initial_id",
   "metadata": {
    "collapsed": true,
    "ExecuteTime": {
     "end_time": "2025-09-28T10:58:05.284327Z",
     "start_time": "2025-09-28T10:58:05.282144Z"
    }
   },
   "source": "import numpy as np",
   "outputs": [],
   "execution_count": 168
  },
  {
   "metadata": {
    "ExecuteTime": {
     "end_time": "2025-09-28T10:58:05.296213Z",
     "start_time": "2025-09-28T10:58:05.294351Z"
    }
   },
   "cell_type": "code",
   "source": [
    "def f(x):\n",
    "    return 3*x+np.sin(x)-np.exp(x)"
   ],
   "id": "6ff027052dc671c0",
   "outputs": [],
   "execution_count": 169
  },
  {
   "metadata": {
    "ExecuteTime": {
     "end_time": "2025-09-28T10:58:05.303599Z",
     "start_time": "2025-09-28T10:58:05.300825Z"
    }
   },
   "cell_type": "code",
   "source": [
    "import pandas as pd\n",
    "df=pd.DataFrame(columns=[\"Xl\",\"Xu\",\"Xr\",\"f(xl)\",\"f(xu)\",\"f(xr)\",\"Ea\"])"
   ],
   "id": "ffb036de04c0a82b",
   "outputs": [],
   "execution_count": 170
  },
  {
   "metadata": {
    "ExecuteTime": {
     "end_time": "2025-09-28T10:58:05.311250Z",
     "start_time": "2025-09-28T10:58:05.308198Z"
    }
   },
   "cell_type": "code",
   "source": [
    "def bisection(xl,xu,es):\n",
    "    if f(xl)*f(xu)>0:\n",
    "        print(\"No root exists between Xl and Xu\")\n",
    "    while True:\n",
    "        xr=(xu+xl)/2\n",
    "        if len(df)==0:\n",
    "            ea=None\n",
    "        else:\n",
    "            prev_xr=df.iloc[-1][\"Xr\"]  # previous xr\n",
    "            ea=abs((xr-prev_xr)/xr)*100\n",
    "        df.loc[len(df)]=[xl,xu,xr,f(xl),f(xu),f(xr),ea]\n",
    "        if f(xl)*f(xr)<0:\n",
    "            xu=xr\n",
    "        elif f(xl)*f(xr)>0:\n",
    "            xl=xr\n",
    "        elif f(xl)*f(xr)==0:\n",
    "            print(f\"Root :{xr}\")\n",
    "            break\n",
    "        if ea is not None and  ea<=es:\n",
    "            print(f\"Root :{xr}\")\n",
    "            break"
   ],
   "id": "1cd79b55f899af9f",
   "outputs": [],
   "execution_count": 171
  },
  {
   "metadata": {
    "ExecuteTime": {
     "end_time": "2025-09-28T10:58:05.321100Z",
     "start_time": "2025-09-28T10:58:05.316273Z"
    }
   },
   "cell_type": "code",
   "source": [
    "es=5 #error tolerance\n",
    "#Initial guesses\n",
    "xl=0\n",
    "xu=1\n",
    "bisection(xl,xu,es)"
   ],
   "id": "e7e499a984b1e67f",
   "outputs": [
    {
     "name": "stdout",
     "output_type": "stream",
     "text": [
      "Root :0.359375\n"
     ]
    }
   ],
   "execution_count": 172
  },
  {
   "metadata": {
    "ExecuteTime": {
     "end_time": "2025-09-28T10:58:05.334631Z",
     "start_time": "2025-09-28T10:58:05.330599Z"
    }
   },
   "cell_type": "code",
   "source": "print(df)",
   "id": "58464afd1c0d0d0f",
   "outputs": [
    {
     "name": "stdout",
     "output_type": "stream",
     "text": [
      "        Xl     Xu        Xr     f(xl)     f(xu)     f(xr)          Ea\n",
      "0  0.00000  1.000  0.500000 -1.000000  1.123189  0.330704         NaN\n",
      "1  0.00000  0.500  0.250000 -1.000000  0.330704 -0.286621  100.000000\n",
      "2  0.25000  0.500  0.375000 -0.286621  0.330704  0.036281   33.333333\n",
      "3  0.25000  0.375  0.312500 -0.286621  0.036281 -0.121899   20.000000\n",
      "4  0.31250  0.375  0.343750 -0.121899  0.036281 -0.041956    9.090909\n",
      "5  0.34375  0.375  0.359375 -0.041956  0.036281 -0.002620    4.347826\n"
     ]
    }
   ],
   "execution_count": 173
  }
 ],
 "metadata": {
  "kernelspec": {
   "display_name": "Python 3",
   "language": "python",
   "name": "python3"
  },
  "language_info": {
   "codemirror_mode": {
    "name": "ipython",
    "version": 2
   },
   "file_extension": ".py",
   "mimetype": "text/x-python",
   "name": "python",
   "nbconvert_exporter": "python",
   "pygments_lexer": "ipython2",
   "version": "2.7.6"
  }
 },
 "nbformat": 4,
 "nbformat_minor": 5
}
